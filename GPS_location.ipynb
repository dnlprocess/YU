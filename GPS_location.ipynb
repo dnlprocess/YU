{
  "cells": [
    {
      "cell_type": "markdown",
      "metadata": {
        "id": "P8tFkoAII3PP"
      },
      "source": [
        "GPS (Global Positioning System) is a technology that uses an array of GPS sattelites transmitting time and location signals to allow devices to accurately track location. This is done by collecting three signals from three different satellites. For each sattelite, the distance from the device to the sattelite is given by the speed of light times the time interval. Each such measurement places the position of the device on the surface of a sphere, and three spheres are needed to uniquely specify a location. If we assume some unknown amount of drift on the device's clock, we need a fourth to uniquely specify a point in space. To do this, we need to solve a system of nonlinear equations. Using curvature information and newton's method for optimizing allows us to accurate solve such systems.\n",
        "\n",
        "(1) Solve the system by using Multivariate Newtons Method Find the receiver position (x, y, z) and time correction d for simultaneous satellite positions (Ai, Bi, Ci) equal to (15600, 7540, 20140), (18760, 2750, 18610), (17610, 14630, 13480), (19170, 610, 18390) km, and measured time intervals ti = 0.07074, 0.07220, 0.07690, 0.07242 sec, respectively. Initial vector (x0, y0, z0, d0) = (0, 0, 6370, 0).\n",
        "\n",
        "To do this we need two tools: A way to solve systems of linear equations, and a way to take derivatives of multivariable functions. We will obtain both of these shortly."
      ]
    },
    {
      "cell_type": "code",
      "execution_count": null,
      "metadata": {
        "id": "5zFLPTciIvsT",
        "colab": {
          "base_uri": "https://localhost:8080/"
        },
        "outputId": "f55ead26-c222-4b54-a450-59514f3ee3c5"
      },
      "outputs": [
        {
          "output_type": "stream",
          "name": "stdout",
          "text": [
            "[-0.84210526  1.81578947  0.97368421]\n",
            "[-1.  2.]\n"
          ]
        }
      ],
      "source": [
        "import numpy as np\n",
        "\n",
        "#forward subsitution algorithm for lower triangular matrix L and vector b\n",
        "def forward_sub(L,b):\n",
        "  x = np.empty(len(b))\n",
        "\n",
        "  #for each place value\n",
        "  for i in range(len(b)):\n",
        "    #make sure we're not dividing by zero\n",
        "    if L[i,i] == 0:\n",
        "      x[i] = 0\n",
        "      continue\n",
        "\n",
        "    #start off by setting the value to the corresponding value in b\n",
        "    val = b[i]\n",
        "    for j in range(i):\n",
        "      #then subtract off the product of the row and the solution\n",
        "      val = val - L[i,j]*x[j]\n",
        "    #then divide off by the value on the diagonal\n",
        "    val = val/L[i,i]\n",
        "\n",
        "    #and set that x value to that value\n",
        "    x[i] = val\n",
        "  return x\n",
        "\n",
        "def backward_sub(U,b):\n",
        "  x = np.empty(len(b))\n",
        "\n",
        "  for i in range(len(b)-1, -1, -1):\n",
        "    #make sure we're not dividing by zero\n",
        "    if U[i,i] == 0:\n",
        "      x[i] = 0\n",
        "      continue\n",
        "\n",
        "    #start off by setting the value to the corresponding value in b\n",
        "    val = b[i]\n",
        "    for j in range(len(b)-1, i, -1):\n",
        "      #then subtract off the product of the row and the solution\n",
        "      val = val - U[i,j]*x[j]\n",
        "    #then divide off by the value on the diagonal\n",
        "    val = val/U[i,i]\n",
        "\n",
        "    #and set that x value to that value\n",
        "    x[i] = val\n",
        "  return x\n",
        "\n",
        "def PALU(A):\n",
        "  n = len(A)\n",
        "  P = np.identity(n)\n",
        "  L = np.zeros((n,n))\n",
        "\n",
        "  for i in range(n):\n",
        "    pivot = i\n",
        "\n",
        "    #find the biggest pivot, to avoid swamping\n",
        "    for row in range(i+1,n):\n",
        "      if (np.absolute(A[row,i]) > np.absolute(A[pivot,i])):\n",
        "        pivot = row\n",
        "\n",
        "    #if the whole column is 0 then we're already done\n",
        "    if pivot == 0:\n",
        "      continue\n",
        "\n",
        "    #if the biggest pivot isn't the one on the diagonal then we need to swap rows\n",
        "    if pivot != i:\n",
        "      P[[pivot, i]] = P[[i,pivot]]\n",
        "      A[[pivot, i]] = A[[i,pivot]]\n",
        "      L[[pivot, i]] = L[[i,pivot]]\n",
        "\n",
        "    #now we just subtract downwards\n",
        "    pivot = A[i,i]\n",
        "    pivrow = A[i]\n",
        "    for row in range(i+1,n):\n",
        "      lead = A[row,i]\n",
        "      #if the leading coefficient is 0 we're already done\n",
        "      if(lead == 0):\n",
        "        continue\n",
        "\n",
        "      coef = lead/pivot\n",
        "      pivrow = coef*pivrow\n",
        "      A[row] -= pivrow\n",
        "      L[row,i] = coef\n",
        "\n",
        "  #fill the diagonal of the lower triangular matrix with 1s\n",
        "  for i in range(n):\n",
        "    L[i,i] = 1\n",
        "\n",
        "  return(P,L,A)\n",
        "\n",
        "def palusolve(A,b):\n",
        "  P,L,U = PALU(A)\n",
        "  #permute b as required\n",
        "  b = P.dot(b)\n",
        "  #and then forward and backward sub to get our answer\n",
        "  b = forward_sub(L,b)\n",
        "  b = backward_sub(U,b)\n",
        "  return b\n",
        "\n",
        "\n",
        "A = np.matrix('-3.0 2 -5; 2 -3 4; 1 1 1')\n",
        "b = np.array([-14, 10, 4])\n",
        "\n",
        "\n",
        "A = np.array([[2.0, 1.0, 5.0],[4.0, 4.0, -4.0], [1.0, 3.0, 1.0]])\n",
        "b = np.array([5,0,6])\n",
        "print(palusolve(A,b))\n",
        "\n",
        "A = np.array([[2.0,3.0],[3.0,2.0]])\n",
        "b = np.array([4,1])\n",
        "print(palusolve(A,b))"
      ]
    },
    {
      "cell_type": "code",
      "execution_count": null,
      "metadata": {
        "id": "OLuBReiUzgWs"
      },
      "outputs": [],
      "source": [
        "def precond_conj_grad(matrix_A, guess_x, vector_b, iterations=30):\n",
        "  r = vector_b - (matrix_A @ guess_x)\n",
        "  D = np.diag(matrix_A)\n",
        "  D_inverse = np.diag(1 / D)\n",
        "  L = np.tril(matrix_A)\n",
        "  U = np.triu(matrix_A)\n",
        "  M = (D+L) @ D_inverse @ (D+U)\n",
        "  M_inverse = np.linalg.inv(M)\n",
        "  d = z = M_inverse @ r\n",
        "  for k in range(iterations):\n",
        "    if np.isclose(np.sum(r),0): return\n",
        "    alpha = (r @ z)/(d @ matrix_A @ d)\n",
        "    guess_x = guess_x + (alpha*d)\n",
        "    r_prev = r\n",
        "    r = r - alpha * (matrix_A @ d)\n",
        "    z_prev = z\n",
        "    z = (M_inverse @ r)\n",
        "    beta = (r @ z)/(r_prev @ z_prev)\n",
        "    d = z + (beta* d)\n",
        "  return guess_x"
      ]
    },
    {
      "cell_type": "code",
      "execution_count": null,
      "metadata": {
        "colab": {
          "base_uri": "https://localhost:8080/"
        },
        "id": "wA6V6B5oNE3N",
        "outputId": "fedb5715-ee39-4e3e-dad1-40f2fc9de50e"
      },
      "outputs": [
        {
          "output_type": "stream",
          "name": "stdout",
          "text": [
            "0.0005291557312011719\n",
            "0.006359415054321289\n"
          ]
        }
      ],
      "source": [
        "import time\n",
        "PALU_time = []\n",
        "conj_grad_time = []\n",
        "\n",
        "A = np.array([[2.0, 1.0, 5.0, -2.0, 2.9],[4.0, 4.0, -4.0, 3.5, 7.1], [1.0, 3.0, 1.0, 2.6, -2.0], [7.0, 2.6, 1.0,3.4, 1.0], [9.0, 2.0, 4.0, -3.8, 6.7]])\n",
        "b = np.array([5,0,6,3, 8])\n",
        "\n",
        "for i in range(100):\n",
        "  start_time = time.time()\n",
        "  palusolve(A,b)\n",
        "  PALU_time.append(time.time() - start_time)\n",
        "  start_time = time.time()\n",
        "  precond_conj_grad(A,np.zeros_like(b),b)\n",
        "  conj_grad_time.append(time.time() - start_time)\n",
        "PALU_time = np.array(PALU_time)\n",
        "conj_grad_time = np.array(conj_grad_time)\n",
        "print(np.average(PALU_time))\n",
        "print(np.average(conj_grad_time))"
      ]
    },
    {
      "cell_type": "code",
      "execution_count": null,
      "metadata": {
        "colab": {
          "base_uri": "https://localhost:8080/"
        },
        "id": "89wYEhea76QL",
        "outputId": "12423b3c-dfc9-45db-a5d0-20fb004cb4b6"
      },
      "outputs": [
        {
          "output_type": "stream",
          "name": "stdout",
          "text": [
            "[[18.00160021  9.00257646]\n",
            " [ 5.0004445  -0.98943076]]\n"
          ]
        }
      ],
      "source": [
        " #computes the derivatives of a function at a given value\n",
        "def derivatives(f, input, delta):\n",
        "  derivatives = []\n",
        "  funcat = f(*input)\n",
        "  for comp in range(len(input)):\n",
        "    bump = input.copy()\n",
        "    bump[comp] += delta\n",
        "    funcdelt = f(*bump)\n",
        "    derivatives.append((funcdelt - funcat)/delta)\n",
        "  return derivatives\n",
        "\n",
        "def f(x,y):\n",
        "  return x**2 * y**2 + x*y + 2\n",
        "#print(derivatives(f,[1,1], 1e-12))\n",
        "\n",
        "def jacobian(F, delta=1e-12):\n",
        "  def output(input):\n",
        "    funcat = F(*input)\n",
        "    for comp in range(len(input)):\n",
        "      bump = input.copy()\n",
        "      bump[comp] += delta\n",
        "      funcdelt = F(*bump)\n",
        "      derivatives = (funcdelt - funcat)/delta\n",
        "      derivatives = derivatives.reshape(-1,1)\n",
        "      if(comp == 0):\n",
        "        jaq = derivatives\n",
        "      else:\n",
        "        jaq = np.concatenate((jaq,derivatives),axis=1)\n",
        "    return jaq\n",
        "  return output\n",
        "\n",
        "def F(x,y):\n",
        "  a = x**2 * y\n",
        "  b = 5*x + np.sin(y)\n",
        "  return np.array([a,b])\n",
        "#jacobian should be\n",
        "#  2xy  x^2\n",
        "#   5  sin(y)\n",
        "\n",
        "print(jacobian(F, 1e-12)([3,3]))\n",
        "#good enough"
      ]
    },
    {
      "cell_type": "code",
      "execution_count": null,
      "metadata": {
        "colab": {
          "base_uri": "https://localhost:8080/"
        },
        "id": "V3PBG1MsElIp",
        "outputId": "46b128c3-c015-4638-b2e9-14ddd63a42ed"
      },
      "outputs": [
        {
          "output_type": "stream",
          "name": "stdout",
          "text": [
            "[0.82603136 0.56362417]\n"
          ]
        }
      ],
      "source": [
        "def multiNewton(F, guess, delta=1e-12, maxiter=25000, tol=1e-8, jacfunc=None, chatter=True):\n",
        "  #use the numerically computed jacobian if no other jacobian is supplied\n",
        "  if jacfunc == None:\n",
        "    jacfunc=jacobian(F,delta)\n",
        "\n",
        "  for iteration in range(maxiter):\n",
        "    #checks if the F evaluated at the estimated root is within the tolerated distance from 0\n",
        "    forerror = np.linalg.norm(F(*guess))\n",
        "    if(forerror <= tol):#essentially forward error\n",
        "      return guess\n",
        "    b = F(*guess)\n",
        "    DF = jacfunc(guess)\n",
        "    solution = palusolve(DF,-b)\n",
        "    guess = guess + solution\n",
        "    #DF s =-F(x_k)\n",
        "    #x_{k+1} = x_k+ s\n",
        "  if(chatter):\n",
        "    print(\"failed to get a root\")\n",
        "    print(forerror)\n",
        "  return guess\n",
        "\n",
        "def F(u,v):\n",
        "  a = v - u**3\n",
        "  b = u**2 + v**2 - 1\n",
        "  return np.array([a,b])\n",
        "\n",
        "print(multiNewton(F,np.array([1,1])))"
      ]
    },
    {
      "cell_type": "markdown",
      "metadata": {
        "id": "78S6IGES82h8"
      },
      "source": [
        "Our Newton's Method implementation is working correctly. Now all we need to do for part (1) is create our function with our presets, and pass it into Newton's Method.\n",
        "\n",
        "Note: the implementation of a numerical jacobian above is mostly for completeness, our function is a pretty simple multivariable polynomial and we will be using our own jacobian function computed by symbolic derivation."
      ]
    },
    {
      "cell_type": "code",
      "execution_count": null,
      "metadata": {
        "colab": {
          "base_uri": "https://localhost:8080/"
        },
        "id": "pGVSn87QIvaY",
        "outputId": "c12eb899-7bd1-4928-ee81-eaf4d7f2d449"
      },
      "outputs": [
        {
          "output_type": "stream",
          "name": "stdout",
          "text": [
            "-41.77270957083659\n",
            "-16.78919410652534\n",
            "6370.059559223339\n",
            "-0.003201565829594143\n",
            "[0. 0. 0. 0.]\n",
            "0.0\n"
          ]
        }
      ],
      "source": [
        "A = [15600, 18760, 17610, 19170]\n",
        "B = [7540, 2750, 14630, 610]\n",
        "C = [20140, 18610, 13480, 18390]\n",
        "t = [0.07074, 0.07220, 0.07690, 0.07242]\n",
        "c = 299792.458 #kilometers per second\n",
        "\n",
        "def GPS(x,y,z,d):\n",
        "  return np.array([(x-A[i])**2 + (y-B[i])**2 + (z-C[i])**2 - (c*(t[i]-d))**2 for i in range(4)])\n",
        "\n",
        "def jaqGPS(input):\n",
        "  x = input[0]\n",
        "  y = input[1]\n",
        "  z = input[2]\n",
        "  d = input[3]\n",
        "  return np.array([[2*(x-A[i]), 2*(y-B[i]), 2*(z-C[i]), 2*c**2 * (t[i]-d)] for i in range(4)])\n",
        "\n",
        "\n",
        "root = multiNewton(GPS,np.array([0,0,6370,0]), jacfunc=jaqGPS)\n",
        "for comp in root:\n",
        "  print(comp)\n",
        "print(GPS(*root))\n",
        "print(np.linalg.norm(GPS(*root)))"
      ]
    },
    {
      "cell_type": "markdown",
      "metadata": {
        "id": "6Okjz8vx8ytM"
      },
      "source": [
        "And our root for the inputs is:\n",
        "\n",
        "\n",
        "x = -41.77270\n",
        "\n",
        "y = -16.78919\n",
        "\n",
        "z = 6370.05955\n",
        "\n",
        "t = -0.003201\n",
        "\n",
        "this concludes part 1."
      ]
    },
    {
      "cell_type": "markdown",
      "metadata": {
        "id": "oj1v-J0e_Emt"
      },
      "source": [
        "In part 2 we test the conditioning of the system. We have"
      ]
    },
    {
      "cell_type": "code",
      "execution_count": null,
      "metadata": {
        "colab": {
          "base_uri": "https://localhost:8080/"
        },
        "id": "eNIsPZLj_Dfa",
        "outputId": "44d1bf9e-a2dc-4cf8-a098-1e2a26e49d36"
      },
      "outputs": [
        {
          "output_type": "stream",
          "name": "stdout",
          "text": [
            "phi:  [1.16579824 1.00566523 1.44610105 0.26848605]\n",
            "theta:  [0.26637235 5.65656699 0.72591326 0.81339062]\n",
            "A:  [10099.81171062 11525.65744849  2471.46948847 17600.62094084]\n",
            "B:  [ 2755.79958462 -8343.9769913   2193.63821111 18614.63998225]\n",
            "C:  [24420.57067432 22438.8539892  26363.70023283  7048.27786258]\n"
          ]
        }
      ],
      "source": [
        "from math import pi\n",
        "rho = 26570.0\n",
        "phi = pi/2 * np.random.rand(4)\n",
        "theta = 2 * pi * np.random.rand(4)\n",
        "A = rho * np.cos(phi) * np.cos(theta)\n",
        "B = rho * np.cos(phi) * np.sin(theta)\n",
        "C = rho * np.sin(phi)\n",
        "print(\"phi: \", phi)\n",
        "print(\"theta: \", theta)\n",
        "print(\"A: \", A)\n",
        "print(\"B: \", B)\n",
        "print(\"C: \", C)\n",
        "\n",
        "#good starting points to try:\n",
        "#phi:  [1.46346527 0.57254535 0.41474974 1.02284873]\n",
        "#theta:  [6.2710199  4.55120411 5.03581859 4.10777656]\n",
        "\n",
        "#phi:  [1.20518929 1.32700682 0.1446215  1.28451664]\n",
        "#theta:  [1.29486773 0.98881825 2.75238143 1.96811342]\n",
        "\n",
        "#phi:  [0.53595228 0.79176088 0.0197512  1.51744748]\n",
        "#theta:  [6.18706504 2.18136436 1.88256667 3.42450733]\n",
        "\n",
        "#it seems to break at\n",
        "#phi:  [1.08170835 1.29146239 1.5464685  1.45836042]\n",
        "#theta:  [2.03904193 0.75682853 2.50446354 3.2891799 ]\n",
        "\n",
        "#phi:  [0.60267966 1.08522731 0.68136807 1.03388003]\n",
        "#theta:  [3.85946342 3.34012104 5.6855919  6.20362733]\n",
        "\n",
        "#phi:  [0.87795561 0.2426663  1.45030545 0.0701176 ]\n",
        "#theta:  [0.65486176 4.57491189 3.05571254 3.89472755]\n",
        "\n",
        "#phi:  [0.25330888 1.40050611 0.7128445  0.97196922]\n",
        "#theta:  [4.49338061 1.10750605 3.62726127 4.67773982]"
      ]
    },
    {
      "cell_type": "code",
      "source": [
        "phi = np.array([0.74147186, 0.95692679, 0.36749778, 1.26212913])\n",
        "theta = np.array([1.63999656, 0.39640358, 4.45769069, 6.19066006])\n",
        "A = np.array([-1354.87721992, 14118.40823996, -6247.41283722,  8037.15038383])\n",
        "B = np.array([ 19547.82111963, 5909.40579845, -23995.96984143,   -745.76868836])\n",
        "C = np.array([17944.68994421, 21718.98643766,  9546.10728047, 25314.28337463])"
      ],
      "metadata": {
        "id": "Q0-q3QhJFZ7h"
      },
      "execution_count": null,
      "outputs": []
    },
    {
      "cell_type": "markdown",
      "metadata": {
        "id": "QR5Xq5m4AV1r"
      },
      "source": [
        "where the components of phi range from 0 to π/2 and the components of theta range from 0 to 2π. Next we set"
      ]
    },
    {
      "cell_type": "code",
      "execution_count": null,
      "metadata": {
        "id": "3EHerLccBE7P"
      },
      "outputs": [],
      "source": [
        "x1=0.0\n",
        "y1=0.0\n",
        "z1=6370\n",
        "d=0.0001"
      ]
    },
    {
      "cell_type": "markdown",
      "metadata": {
        "id": "ZmZVHnPBBIvj"
      },
      "source": [
        "and calculate the radii and travel times:"
      ]
    },
    {
      "cell_type": "code",
      "execution_count": null,
      "metadata": {
        "colab": {
          "base_uri": "https://localhost:8080/"
        },
        "id": "Nxzwfh9cAdwz",
        "outputId": "9414c843-e717-4e8e-c2d4-5a8f8e17eee4"
      },
      "outputs": [
        {
          "output_type": "stream",
          "name": "stdout",
          "text": [
            "radius:  [22757.99749782 21675.83707229 24998.4878192  20592.17885041]\n",
            "travel time:  [0.07601251 0.07240281 0.08348598 0.06878812]\n",
            "[ 3.57951825e-12 -1.25003419e-12  6.37000000e+03  1.00000000e-04]\n"
          ]
        }
      ],
      "source": [
        "R = np.sqrt((A-x1)**2 + (B-y1)**2 + (C-z1)**2 )\n",
        "original = d + R/c\n",
        "t=original.copy()\n",
        "print(\"radius: \", R)\n",
        "print(\"travel time: \", t)\n",
        "absolute_root = multiNewton(GPS,np.array([0,0,6370,0.0001]), jacfunc=jaqGPS, chatter=False)\n",
        "print(absolute_root)"
      ]
    },
    {
      "cell_type": "markdown",
      "metadata": {
        "id": "sA2Zqhh_FVio"
      },
      "source": [
        "we can recalculate the position just as a sanity check; it should be quite close to our hard coded position"
      ]
    },
    {
      "cell_type": "code",
      "execution_count": null,
      "metadata": {
        "colab": {
          "base_uri": "https://localhost:8080/"
        },
        "id": "BNesXgTbCXK5",
        "outputId": "e4f342f3-1810-4a34-b001-e272b79e4abe"
      },
      "outputs": [
        {
          "output_type": "stream",
          "name": "stdout",
          "text": [
            "3.5795182500045474e-12\n",
            "-1.2500341886533057e-12\n",
            "6369.9999999999945\n",
            "0.00010000000000000648\n",
            "[1.19209290e-07 1.78813934e-07 2.38418579e-07 5.96046448e-08]\n"
          ]
        }
      ],
      "source": [
        "root = multiNewton(GPS,np.array([0,0,6370,0.0001]), jacfunc=jaqGPS, chatter=False)\n",
        "for comp in root:\n",
        "  print(comp)\n",
        "print(GPS(*root))\n",
        "\n",
        "jaq = np.linalg.norm(jaqGPS(np.array([0,0,6370,0.0001])))"
      ]
    },
    {
      "cell_type": "markdown",
      "metadata": {
        "id": "lZN5ntnkzFpG"
      },
      "source": [
        "Now if we want to know the error magnification factor, we can randomly perturb the time values a little bit"
      ]
    },
    {
      "cell_type": "code",
      "execution_count": null,
      "metadata": {
        "colab": {
          "base_uri": "https://localhost:8080/"
        },
        "id": "ZfEHioWg4r0R",
        "outputId": "936807aa-ba16-41be-8df2-64ee050d9cc9"
      },
      "outputs": [
        {
          "output_type": "stream",
          "name": "stdout",
          "text": [
            "[0.07289074 0.07109576 0.07053552 0.08702899]\n"
          ]
        }
      ],
      "source": [
        "t = original.copy()\n",
        "eps = (np.random.randint(0,2,size=4) * 2 - 1) * 10**-8\n",
        "t = t+eps\n",
        "print(t)"
      ]
    },
    {
      "cell_type": "markdown",
      "metadata": {
        "id": "QxWjaeFu5Sie"
      },
      "source": [
        "and then recalculate the position"
      ]
    },
    {
      "cell_type": "code",
      "execution_count": null,
      "metadata": {
        "colab": {
          "base_uri": "https://localhost:8080/"
        },
        "id": "2xwxliJa5IyX",
        "outputId": "3e6e767d-2de9-498f-b7ba-6a8f188506e9"
      },
      "outputs": [
        {
          "output_type": "stream",
          "name": "stdout",
          "text": [
            "-7.745171010502211e+24\n",
            "1.4570198460422232e+29\n",
            "3.691385454061655e+28\n",
            "-3.807005147305079e+22\n",
            "[2.24614419e+58 2.24614419e+58 2.24614419e+58 2.24614419e+58]\n"
          ]
        }
      ],
      "source": [
        "root = multiNewton(GPS,np.array([0,0,6370,0.0001]), jacfunc=jaqGPS, chatter=False)\n",
        "for comp in root:\n",
        "  print(comp)\n",
        "print(GPS(*root))"
      ]
    },
    {
      "cell_type": "markdown",
      "metadata": {
        "id": "u2XS8Ct_6Bm1"
      },
      "source": [
        "and finally calculate the error factor"
      ]
    },
    {
      "cell_type": "code",
      "execution_count": null,
      "metadata": {
        "colab": {
          "base_uri": "https://localhost:8080/"
        },
        "id": "HcDwSTEe59-3",
        "outputId": "d460e1de-71ed-4371-e561-5948fc1e6616"
      },
      "outputs": [
        {
          "output_type": "stream",
          "name": "stdout",
          "text": [
            "Deltas:  [0.00744627 0.00500023 0.01183698 0.00090002]\n",
            "the maximum error is 3948.391161424388 meters\n"
          ]
        }
      ],
      "source": [
        "change = np.abs((root-np.array([0,0,6370,0.001])))\n",
        "maxchange = np.max(change[:-1])\n",
        "errfactor = maxchange / (c * 10**-8)\n",
        "print(\"Deltas: \", change)\n",
        "print(\"the maximum error is\", errfactor*1000, \"meters\")"
      ]
    },
    {
      "cell_type": "markdown",
      "metadata": {
        "id": "zgT_V4K-Xmh_"
      },
      "source": [
        "it is also useful to simulate this many times, and obtain an approximation for the maximum error factor for a delta_t of 10^-8"
      ]
    },
    {
      "cell_type": "code",
      "execution_count": null,
      "metadata": {
        "id": "3NPljr2w9PA2",
        "colab": {
          "base_uri": "https://localhost:8080/"
        },
        "outputId": "c31bffbe-3c07-4531-a9e4-8425131776c8"
      },
      "outputs": [
        {
          "output_type": "stream",
          "name": "stdout",
          "text": [
            "the maximum error factor is 1948773.761448402 meters, which is our estimation for the condition number of this problem\n",
            "the maximum positon delta, or change is 14.102970780186297\n",
            "the maximum position overall error is 17.29676376063042\n"
          ]
        }
      ],
      "source": [
        "max_errfactor = 0\n",
        "max_position_change = 0\n",
        "max_position_error = 0 #overall, euclidean norm\n",
        "for iter in range(1000):\n",
        "  t = original.copy()\n",
        "  eps = (np.random.sample(4) * 2 - 1) * 10**-8\n",
        "  max_delt_t = np.max(eps)\n",
        "  t = t+eps\n",
        "  root = multiNewton(GPS,np.array([0,0,6370,0.0001]), jacfunc=jaqGPS, maxiter=6000, tol=5e-6, chatter=False)\n",
        "  change = np.abs((root-np.array([0,0,6370,0.001])))\n",
        "  position_error = np.linalg.norm(root-np.array([0,0,6370,0.001]))#overall change\n",
        "  #change = np.abs((root-absolute_root))\n",
        "  #position_error = np.linalg.norm(root-absolute_root)#overall change\n",
        "  maxchange = np.max(change[:-1])\n",
        "  errfactor = maxchange/(c*max_delt_t)\n",
        "  if errfactor > max_errfactor:\n",
        "    max_errfactor = errfactor\n",
        "  if maxchange > max_position_change:\n",
        "    max_position_change = maxchange\n",
        "  if position_error > max_position_error:\n",
        "    max_position_error = position_error\n",
        "print(\"the maximum error factor is\",max_errfactor*1000,\"meters, which is our estimation for the condition number of this problem\")\n",
        "print(\"the maximum positon delta, or change is\", max_position_change*1000)\n",
        "print(\"the maximum position overall error is\", max_position_error*1000)"
      ]
    },
    {
      "cell_type": "markdown",
      "metadata": {
        "id": "fWKCpspzgQto"
      },
      "source": [
        "This concludes part 2. For part 3 we do the similar steps but start with tighter clustered sattelites."
      ]
    },
    {
      "cell_type": "code",
      "execution_count": null,
      "metadata": {
        "colab": {
          "base_uri": "https://localhost:8080/"
        },
        "id": "BZLLZwf6gahv",
        "outputId": "670b8d4e-6078-4a4d-8993-daf3536f6b21"
      },
      "outputs": [
        {
          "output_type": "stream",
          "name": "stdout",
          "text": [
            "phi:  [0.93013452 0.90241542 0.92458621 0.9187206 ]\n",
            "theta:  [0.90375965 0.92287958 0.93964964 0.90026716]\n",
            "A:  [ 9825.30920836  9937.58326574  9440.85398733 10019.26173584]\n",
            "B:  [12477.49963708 13128.93264456 12917.23839028 12632.78475853]\n",
            "C:  [21301.17841263 20852.82873979 21212.73505135 21118.52370582]\n",
            "radius:  [21798.27486346 21928.90243161 21824.1049174  21851.58593759]\n",
            "travel time:  [0.07281122 0.07324694 0.07289738 0.07298904]\n",
            "[5.35125416e-11 1.43078149e-11 6.37000000e+03 1.00000000e-04]\n"
          ]
        }
      ],
      "source": [
        "phi = 0.05 * np.random.rand(4) + .90\n",
        "theta =  0.05 * np.random.rand(4) + .90\n",
        "phi = np.array([0.93013452, 0.90241542, 0.92458621, 0.9187206 ])\n",
        "theta = np.array([0.90375965, 0.92287958, 0.93964964, 0.90026716])#+1\n",
        "A = rho * np.cos(phi) * np.cos(theta)\n",
        "B = rho * np.cos(phi) * np.sin(theta)\n",
        "C = rho * np.sin(phi)\n",
        "d=0.0001\n",
        "print(\"phi: \", phi)\n",
        "print(\"theta: \", theta)\n",
        "print(\"A: \", A)\n",
        "print(\"B: \", B)\n",
        "print(\"C: \", C)\n",
        "R = np.sqrt((A-x1)**2 + (B-y1)**2 + (C-z1)**2 )\n",
        "original2 = d + R/c\n",
        "t = original2.copy()\n",
        "print(\"radius: \", R)\n",
        "print(\"travel time: \", t)\n",
        "absolute_root2 = multiNewton(GPS,np.array([0,0,6370,0.0001]), jacfunc=jaqGPS, chatter=False)\n",
        "print(absolute_root2)"
      ]
    },
    {
      "cell_type": "code",
      "execution_count": null,
      "metadata": {
        "id": "jcw7UApZiRuc",
        "outputId": "d4c26367-88ed-4c1f-f2df-d71a47ed1072",
        "colab": {
          "base_uri": "https://localhost:8080/"
        }
      },
      "outputs": [
        {
          "output_type": "stream",
          "name": "stdout",
          "text": [
            "the maximum error factor is 48672009.900470786 meters, which is our estimation for the condition number of this problem\n",
            "the maximum positon delta, or change is 50292.58673791901\n",
            "the maximum position overall error is 74589.07658965459\n"
          ]
        }
      ],
      "source": [
        "max_errfactor = errfactor\n",
        "max_position_change = maxchange\n",
        "max_position_error = 0 #overall, euclidean norm\n",
        "for iter in range(10):\n",
        "  t = original2.copy()\n",
        "  eps = (np.random.sample(4) * 2 - 1) * 10**-8\n",
        "  max_delt_t = np.max(eps)\n",
        "  t = t+eps\n",
        "  root = multiNewton(GPS,np.array([0,0,6370,0.0001]), jacfunc=jaqGPS, maxiter=10000, tol=1e-8, chatter=False)\n",
        "  change = np.abs((root-np.array([0,0,6370,0.001])))\n",
        "  position_error = np.linalg.norm(root-np.array([0,0,6370,0.001]))#overall change\n",
        "  #change = np.abs((root-absolute_root2))\n",
        "  #position_error = np.linalg.norm(root-absolute_root2)#overall change\n",
        "  maxchange = np.max(change[:-1])\n",
        "  errfactor = maxchange/(c*max_delt_t)\n",
        "  if errfactor > max_errfactor:\n",
        "    max_errfactor = errfactor\n",
        "  if maxchange > max_position_change:\n",
        "    max_position_change = maxchange\n",
        "  if position_error > max_position_error:\n",
        "    max_position_error = position_error\n",
        "print(\"the maximum error factor is\",max_errfactor*1000,\"meters, which is our estimation for the condition number of this problem\")\n",
        "print(\"the maximum positon delta, or change is\", max_position_change*1000)\n",
        "print(\"the maximum position overall error is\", max_position_error*1000)"
      ]
    },
    {
      "cell_type": "markdown",
      "metadata": {
        "id": "ZpAjF1BkgaKL"
      },
      "source": [
        "the error factor fluctuates with the values of theta and phi and the conditioning number is computationally somewhat expensive to approximate in this way, but it's abundantly clear that the error factor when the sattelites are closer together is much, much higher."
      ]
    },
    {
      "cell_type": "markdown",
      "source": [
        "This concludes part 3."
      ],
      "metadata": {
        "id": "u-BKQTJEjffp"
      }
    }
  ],
  "metadata": {
    "colab": {
      "provenance": []
    },
    "kernelspec": {
      "display_name": "Python 3",
      "name": "python3"
    },
    "language_info": {
      "name": "python"
    }
  },
  "nbformat": 4,
  "nbformat_minor": 0
}